{
 "cells": [
  {
   "cell_type": "markdown",
   "metadata": {},
   "source": [
    "# First Try\n",
    "Start simple with Pytesseract / Tesseract and PIL\n"
   ]
  },
  {
   "cell_type": "code",
   "execution_count": 7,
   "metadata": {},
   "outputs": [
    {
     "name": "stdout",
     "output_type": "stream",
     "text": [
      "/Users/hansjoerg.stark/Dropbox/Privat/2019GeoPython/Data/testing/AW_ - 1.PNG\n",
      "/Users/hansjoerg.stark/Dropbox/Privat/2019GeoPython/Data/testing/AW_ - 19.PNG\n",
      "/Users/hansjoerg.stark/Dropbox/Privat/2019GeoPython/Data/testing/AW_ - 24.PNG\n",
      "/Users/hansjoerg.stark/Dropbox/Privat/2019GeoPython/Data/testing/AW_ - 28.PNG\n",
      "/Users/hansjoerg.stark/Dropbox/Privat/2019GeoPython/Data/testing/AW_ - 11.PNG\n",
      "['', '', '', '45', '49:']\n",
      "['Mar 21 2019', 'Feb 27 2019', 'Mar 2 2019', 'Mar 4 2019', 'Feb 23 2019']\n"
     ]
    },
    {
     "data": {
      "image/png": "[encoded data removed]",
      "text/plain": [
       "<Figure size 432x288 with 1 Axes>"
      ]
     },
     "metadata": {
      "needs_background": "light"
     },
     "output_type": "display_data"
    }
   ],
   "source": [
    "try:\n",
    "    from PIL import Image\n",
    "except ImportError:\n",
    "    import Image\n",
    "import pytesseract\n",
    "import os\n",
    "import os.path, time\n",
    "\n",
    "import matplotlib\n",
    "import matplotlib.pyplot as plt\n",
    "import matplotlib.dates as mdates\n",
    "import numpy as np\n",
    "\n",
    "mypath2data = '/Users/hansjoerg.stark/Dropbox/Privat/2019GeoPython/Data/testing'\n",
    "pulsearray = []\n",
    "datearray = []\n",
    "\n",
    "for file in os.listdir(mypath2data):\n",
    "    if file.endswith(\".PNG\"):\n",
    "        curImg = os.path.join(mypath2data, file)\n",
    "        print(curImg)\n",
    "        \n",
    "        #print(pytesseract.image_to_string(Image.open(curImg)))\n",
    "        result = pytesseract.image_to_string(Image.open(curImg))\n",
    "        imgtime = time.ctime(os.path.getmtime(curImg))\n",
    "        imgtimestamp = \"%s %s %s\" %(imgtime.split()[1],imgtime.split()[2], imgtime.split()[4])\n",
    "        #print(imgtimestamp)\n",
    "        datearray.append(imgtimestamp)\n",
    "        nopulse = True                                      \n",
    "        for splt in range(len(result.split())):\n",
    "            if result.split()[splt] == \"BPM\":\n",
    "                pulse = result.split()[splt-1]\n",
    "                #print (pulse)\n",
    "                pulsearray.append(pulse)\n",
    "                nopulse = False\n",
    "                break\n",
    "        if nopulse:\n",
    "            pulsearray.append(\"\")\n",
    "\n",
    "print(pulsearray)\n",
    "print(datearray)\n",
    "plt.plot(datearray, pulsearray, )\n",
    "\n",
    "plt.xlabel('Date')\n",
    "plt.ylabel('Pulse')\n",
    "plt.title('My Personal Health')\n",
    "plt.grid()\n",
    "\n",
    "plt.savefig(mypath2data + \"/test.png\")\n",
    "plt.show()"
   ]
  },
  {
   "cell_type": "markdown",
   "metadata": {},
   "source": [
    "# Second Try\n",
    "Apply some setting at Tesseract-Level"
   ]
  },
  {
   "cell_type": "code",
   "execution_count": 2,
   "metadata": {},
   "outputs": [
    {
     "name": "stdout",
     "output_type": "stream",
     "text": [
      "/Users/hansjoerg.stark/Dropbox/Privat/2019GeoPython/Data/testing/AW_ - 1.PNG\n",
      "/Users/hansjoerg.stark/Dropbox/Privat/2019GeoPython/Data/testing/AW_ - 19.PNG\n",
      "/Users/hansjoerg.stark/Dropbox/Privat/2019GeoPython/Data/testing/AW_ - 24.PNG\n",
      "/Users/hansjoerg.stark/Dropbox/Privat/2019GeoPython/Data/testing/AW_ - 28.PNG\n",
      "/Users/hansjoerg.stark/Dropbox/Privat/2019GeoPython/Data/testing/AW_ - 11.PNG\n",
      "['', '', '', '45', '49:']\n",
      "['Mar 21 2019', 'Feb 27 2019', 'Mar 2 2019', 'Mar 4 2019', 'Feb 23 2019']\n"
     ]
    },
    {
     "data": {
      "image/png": "[encoded data removed]",
      "text/plain": [
       "<Figure size 432x288 with 1 Axes>"
      ]
     },
     "metadata": {
      "needs_background": "light"
     },
     "output_type": "display_data"
    }
   ],
   "source": [
    "try:\n",
    "    from PIL import Image\n",
    "except ImportError:\n",
    "    import Image\n",
    "import pytesseract\n",
    "import os\n",
    "\n",
    "mypath2data = '/Users/hansjoerg.stark/Dropbox/Privat/2019GeoPython/Data/testing'\n",
    "datearray = []\n",
    "pulsearray = []\n",
    "\n",
    "for file in os.listdir(mypath2data):\n",
    "    if file.endswith(\".PNG\"):\n",
    "        curImg = os.path.join(mypath2data, file)\n",
    "        print(curImg)\n",
    "        \n",
    "        result = (pytesseract.image_to_string(Image.open(curImg),config='--psm 11'))\n",
    "\n",
    "        imgtime = time.ctime(os.path.getmtime(curImg))\n",
    "        imgtimestamp = \"%s %s %s\" %(imgtime.split()[1],imgtime.split()[2], imgtime.split()[4])\n",
    "        #print(imgtimestamp)\n",
    "        datearray.append(imgtimestamp)\n",
    "        nopulse = True                  \n",
    "\n",
    "        for splt in range(len(result.split())):\n",
    "            if result.split()[splt] == \"BPM\":\n",
    "                pulse = result.split()[splt-1]\n",
    "                #print (pulse)\n",
    "                pulsearray.append(pulse)\n",
    "                nopulse = False\n",
    "                break\n",
    "        if nopulse:\n",
    "            pulsearray.append(\"\")\n",
    "\n",
    "print(pulsearray)\n",
    "print(datearray)\n",
    "plt.plot(datearray, pulsearray, )\n",
    "\n",
    "plt.xlabel('Date')\n",
    "plt.ylabel('Pulse')\n",
    "plt.title('My Personal Health')\n",
    "plt.grid()\n",
    "\n",
    "plt.savefig(mypath2data + \"/test.png\")\n",
    "plt.show()"
   ]
  },
  {
   "cell_type": "markdown",
   "metadata": {},
   "source": [
    "# Third Try\n",
    "Binarize the image"
   ]
  },
  {
   "cell_type": "code",
   "execution_count": 8,
   "metadata": {},
   "outputs": [
    {
     "name": "stderr",
     "output_type": "stream",
     "text": [
      "/Users/hansjoerg.stark/anaconda3/lib/python3.7/site-packages/ipykernel_launcher.py:17: DeprecationWarning: `imsave` is deprecated!\n",
      "`imsave` is deprecated in SciPy 1.0.0, and will be removed in 1.2.0.\n",
      "Use ``imageio.imwrite`` instead.\n",
      "/Users/hansjoerg.stark/anaconda3/lib/python3.7/site-packages/ipykernel_launcher.py:17: DeprecationWarning: `imsave` is deprecated!\n",
      "`imsave` is deprecated in SciPy 1.0.0, and will be removed in 1.2.0.\n",
      "Use ``imageio.imwrite`` instead.\n",
      "/Users/hansjoerg.stark/anaconda3/lib/python3.7/site-packages/ipykernel_launcher.py:17: DeprecationWarning: `imsave` is deprecated!\n",
      "`imsave` is deprecated in SciPy 1.0.0, and will be removed in 1.2.0.\n",
      "Use ``imageio.imwrite`` instead.\n",
      "/Users/hansjoerg.stark/anaconda3/lib/python3.7/site-packages/ipykernel_launcher.py:17: DeprecationWarning: `imsave` is deprecated!\n",
      "`imsave` is deprecated in SciPy 1.0.0, and will be removed in 1.2.0.\n",
      "Use ``imageio.imwrite`` instead.\n"
     ]
    },
    {
     "name": "stdout",
     "output_type": "stream",
     "text": [
      "['«Aktuell', 'b', 'Fels', '3s', '03)', 'aleadetel', 'lard', '495', 'OE)', 'a', 'a)']\n"
     ]
    },
    {
     "name": "stderr",
     "output_type": "stream",
     "text": [
      "/Users/hansjoerg.stark/anaconda3/lib/python3.7/site-packages/ipykernel_launcher.py:17: DeprecationWarning: `imsave` is deprecated!\n",
      "`imsave` is deprecated in SciPy 1.0.0, and will be removed in 1.2.0.\n",
      "Use ``imageio.imwrite`` instead.\n",
      "/Users/hansjoerg.stark/anaconda3/lib/python3.7/site-packages/ipykernel_launcher.py:17: DeprecationWarning: `imsave` is deprecated!\n",
      "`imsave` is deprecated in SciPy 1.0.0, and will be removed in 1.2.0.\n",
      "Use ``imageio.imwrite`` instead.\n",
      "/Users/hansjoerg.stark/anaconda3/lib/python3.7/site-packages/ipykernel_launcher.py:17: DeprecationWarning: `imsave` is deprecated!\n",
      "`imsave` is deprecated in SciPy 1.0.0, and will be removed in 1.2.0.\n",
      "Use ``imageio.imwrite`` instead.\n",
      "/Users/hansjoerg.stark/anaconda3/lib/python3.7/site-packages/ipykernel_launcher.py:17: DeprecationWarning: `imsave` is deprecated!\n",
      "`imsave` is deprecated in SciPy 1.0.0, and will be removed in 1.2.0.\n",
      "Use ``imageio.imwrite`` instead.\n"
     ]
    },
    {
     "name": "stdout",
     "output_type": "stream",
     "text": [
      "['«Aktuell', '05:13', 'Herzfrequenz', 'ks', '45', 'BPM,', 'vor', '7', 'Min.']\n"
     ]
    },
    {
     "name": "stderr",
     "output_type": "stream",
     "text": [
      "/Users/hansjoerg.stark/anaconda3/lib/python3.7/site-packages/ipykernel_launcher.py:17: DeprecationWarning: `imsave` is deprecated!\n",
      "`imsave` is deprecated in SciPy 1.0.0, and will be removed in 1.2.0.\n",
      "Use ``imageio.imwrite`` instead.\n",
      "/Users/hansjoerg.stark/anaconda3/lib/python3.7/site-packages/ipykernel_launcher.py:17: DeprecationWarning: `imsave` is deprecated!\n",
      "`imsave` is deprecated in SciPy 1.0.0, and will be removed in 1.2.0.\n",
      "Use ``imageio.imwrite`` instead.\n",
      "/Users/hansjoerg.stark/anaconda3/lib/python3.7/site-packages/ipykernel_launcher.py:17: DeprecationWarning: `imsave` is deprecated!\n",
      "`imsave` is deprecated in SciPy 1.0.0, and will be removed in 1.2.0.\n",
      "Use ``imageio.imwrite`` instead.\n",
      "/Users/hansjoerg.stark/anaconda3/lib/python3.7/site-packages/ipykernel_launcher.py:17: DeprecationWarning: `imsave` is deprecated!\n",
      "`imsave` is deprecated in SciPy 1.0.0, and will be removed in 1.2.0.\n",
      "Use ``imageio.imwrite`` instead.\n"
     ]
    },
    {
     "name": "stdout",
     "output_type": "stream",
     "text": [
      "['«Aktuell', '§N07:20', 'Herzfrequenz', '495\"', 'CVA', 'Oya)']\n"
     ]
    },
    {
     "name": "stderr",
     "output_type": "stream",
     "text": [
      "/Users/hansjoerg.stark/anaconda3/lib/python3.7/site-packages/ipykernel_launcher.py:17: DeprecationWarning: `imsave` is deprecated!\n",
      "`imsave` is deprecated in SciPy 1.0.0, and will be removed in 1.2.0.\n",
      "Use ``imageio.imwrite`` instead.\n",
      "/Users/hansjoerg.stark/anaconda3/lib/python3.7/site-packages/ipykernel_launcher.py:17: DeprecationWarning: `imsave` is deprecated!\n",
      "`imsave` is deprecated in SciPy 1.0.0, and will be removed in 1.2.0.\n",
      "Use ``imageio.imwrite`` instead.\n",
      "/Users/hansjoerg.stark/anaconda3/lib/python3.7/site-packages/ipykernel_launcher.py:17: DeprecationWarning: `imsave` is deprecated!\n",
      "`imsave` is deprecated in SciPy 1.0.0, and will be removed in 1.2.0.\n",
      "Use ``imageio.imwrite`` instead.\n",
      "/Users/hansjoerg.stark/anaconda3/lib/python3.7/site-packages/ipykernel_launcher.py:17: DeprecationWarning: `imsave` is deprecated!\n",
      "`imsave` is deprecated in SciPy 1.0.0, and will be removed in 1.2.0.\n",
      "Use ``imageio.imwrite`` instead.\n"
     ]
    },
    {
     "name": "stdout",
     "output_type": "stream",
     "text": [
      "['<Ruhezu...', 'N06:54', 'Ruheherzfrequenz', '45', 'ie)', 'IVA)']\n"
     ]
    },
    {
     "name": "stderr",
     "output_type": "stream",
     "text": [
      "/Users/hansjoerg.stark/anaconda3/lib/python3.7/site-packages/ipykernel_launcher.py:17: DeprecationWarning: `imsave` is deprecated!\n",
      "`imsave` is deprecated in SciPy 1.0.0, and will be removed in 1.2.0.\n",
      "Use ``imageio.imwrite`` instead.\n",
      "/Users/hansjoerg.stark/anaconda3/lib/python3.7/site-packages/ipykernel_launcher.py:17: DeprecationWarning: `imsave` is deprecated!\n",
      "`imsave` is deprecated in SciPy 1.0.0, and will be removed in 1.2.0.\n",
      "Use ``imageio.imwrite`` instead.\n",
      "/Users/hansjoerg.stark/anaconda3/lib/python3.7/site-packages/ipykernel_launcher.py:17: DeprecationWarning: `imsave` is deprecated!\n",
      "`imsave` is deprecated in SciPy 1.0.0, and will be removed in 1.2.0.\n",
      "Use ``imageio.imwrite`` instead.\n",
      "/Users/hansjoerg.stark/anaconda3/lib/python3.7/site-packages/ipykernel_launcher.py:17: DeprecationWarning: `imsave` is deprecated!\n",
      "`imsave` is deprecated in SciPy 1.0.0, and will be removed in 1.2.0.\n",
      "Use ``imageio.imwrite`` instead.\n"
     ]
    },
    {
     "name": "stdout",
     "output_type": "stream",
     "text": [
      "['<Ruhezu...', '[o}s3423°)', 'Ruheherzfrequenz', '42', 'BPM', 'Heu', 'te']\n",
      "['', '45', '', '', '42']\n",
      "['Feb 23 2019', 'Feb 27 2019', 'Mar 2 2019', 'Mar 4 2019', 'Mar 21 2019']\n"
     ]
    },
    {
     "data": {
      "image/png": "[encoded data removed]",
      "text/plain": [
       "<Figure size 432x288 with 1 Axes>"
      ]
     },
     "metadata": {
      "needs_background": "light"
     },
     "output_type": "display_data"
    }
   ],
   "source": [
    "#!/usr/bin/env python\n",
    "# -*- coding: utf-8 -*-\n",
    "\n",
    "\"\"\"Binarize (make it black and white) an image with Python.\"\"\"\n",
    "\n",
    "from PIL import Image, ImageFilter\n",
    "from scipy.misc import imsave\n",
    "import numpy\n",
    "\n",
    "\n",
    "def binarize_image(img_path, target_path, threshold):\n",
    "    \"\"\"Binarize an image.\"\"\"\n",
    "    image_file = Image.open(img_path)\n",
    "    image = image_file.convert('L')  # convert image to monochrome\n",
    "    image = numpy.array(image)\n",
    "    image = binarize_array(image, threshold)\n",
    "    imsave(target_path, image)\n",
    "    return image\n",
    "\n",
    "\n",
    "\n",
    "def binarize_array(numpy_array, threshold=200):\n",
    "    \"\"\"Binarize a numpy array.\"\"\"\n",
    "    for i in range(len(numpy_array)):\n",
    "        for j in range(len(numpy_array[0])):\n",
    "            if numpy_array[i][j] > threshold:\n",
    "                numpy_array[i][j] = 255\n",
    "            else:\n",
    "                numpy_array[i][j] = 0\n",
    "    return numpy_array\n",
    "\n",
    "\n",
    "def get_parser():\n",
    "    \"\"\"Get parser object for script xy.py.\"\"\"\n",
    "    from argparse import ArgumentParser, ArgumentDefaultsHelpFormatter\n",
    "    parser = ArgumentParser(description=__doc__,\n",
    "                            formatter_class=ArgumentDefaultsHelpFormatter)\n",
    "    parser.add_argument(\"-i\", \"--input\",\n",
    "                        dest=\"input\",\n",
    "                        help=\"read this file\",\n",
    "                        metavar=\"FILE\",\n",
    "                        required=True)\n",
    "    parser.add_argument(\"-o\", \"--output\",\n",
    "                        dest=\"output\",\n",
    "                        help=\"write binarized file hre\",\n",
    "                        metavar=\"FILE\",\n",
    "                        required=True)\n",
    "    parser.add_argument(\"--threshold\",\n",
    "                        dest=\"threshold\",\n",
    "                        default=200,\n",
    "                        type=int,\n",
    "                        help=\"Threshold when to show white\")\n",
    "    return parser\n",
    "\n",
    "#***********************************************************************\n",
    "#***********************************************************************\n",
    "def getfiles(dirpath):\n",
    "    a = [s for s in os.listdir(dirpath)\n",
    "         if os.path.isfile(os.path.join(dirpath, s))]\n",
    "    a.sort(key=lambda s: os.path.getmtime(os.path.join(dirpath, s)))\n",
    "    return a\n",
    "\n",
    "#***********************************************************************\n",
    "#***********************************************************************\n",
    "\n",
    "import pytesseract\n",
    "import os, sys\n",
    "\n",
    "mypath2data = '/Users/hansjoerg.stark/Dropbox/Privat/2019GeoPython/Data/testing'\n",
    "imgbw = os.path.join(mypath2data,'bw.png')\n",
    "imgshaprened = os.path.join(mypath2data,'sharpended.png')\n",
    "imgemboss = os.path.join(mypath2data,'emboss.png')\n",
    "imgcontour = os.path.join(mypath2data,'contour.png')\n",
    "\n",
    "#print(pytesseract.image_to_string(Image.open('/Users/hansjoerg.stark/Dropbox/Privat/2019GeoPython/Data/Testing/AW_ - 1.PNG'),config='--psm 11'))\n",
    "#print(pytesseract.image_to_string(Image.open(img),config='--psm 11'))\n",
    "\n",
    "datearray = []\n",
    "pulsearray = []\n",
    "\n",
    "#getfiles(mypath2data)\n",
    "#for file in os.listdir(mypath2data):\n",
    "for file in getfiles(mypath2data):\n",
    "    if file.endswith(\".PNG\"):\n",
    "        curImg = os.path.join(mypath2data, file)\n",
    "\n",
    "        image_file = Image.open(curImg) # open colour image\n",
    "        image_file.save(imgemboss)\n",
    "        image_file.save(imgshaprened)\n",
    "        image_file.save(imgcontour)\n",
    "        image_file.save(imgbw)\n",
    "        image_file.close()\n",
    "        image_filebw = Image.open(imgbw) # open colour image\n",
    "        image_filebw = image_filebw.convert('1') # convert image to black and white\n",
    "        image_files = Image.open(imgshaprened) # open colour image\n",
    "        image_files = image_files.convert('1') # convert image to black and white\n",
    "        image_filee = Image.open(imgemboss) # open colour image\n",
    "        image_filee = image_filee.convert('1') # convert image to black and white\n",
    "        image_filec = Image.open(imgcontour) # open colour image\n",
    "        image_filec = image_filec.convert('1') # convert image to black and white\n",
    "\n",
    "        \n",
    "        binparam = 10\n",
    "        binimg = binarize_image(imgbw, imgbw, binparam)\n",
    "        result = (pytesseract.image_to_string(binimg,config='--psm 11'))\n",
    "        binimg = binarize_image(imgshaprened, imgshaprened, binparam)\n",
    "        result = (pytesseract.image_to_string(binimg,config='--psm 11'))\n",
    "        binimg = binarize_image(imgemboss, imgemboss, binparam)\n",
    "        result = (pytesseract.image_to_string(binimg,config='--psm 11'))\n",
    "        binimg = binarize_image(imgcontour, imgcontour, binparam)\n",
    "        result = (pytesseract.image_to_string(binimg,config='--psm 11'))\n",
    "        #print(result)\n",
    "        #print(\"*\"*50)\n",
    "\n",
    "        imgtime = time.ctime(os.path.getmtime(curImg))\n",
    "        imgtimestamp = \"%s %s %s\" %(imgtime.split()[1],imgtime.split()[2], imgtime.split()[4])\n",
    "        #print(imgtimestamp)\n",
    "        datearray.append(imgtimestamp)\n",
    "        nopulse = True                  \n",
    "        \n",
    "        print(result.split())\n",
    "        for splt in range(len(result.split())):\n",
    "            if \"BPM\" in result.split()[splt]:\n",
    "                pulse = result.split()[splt-1]\n",
    "                #print (pulse)\n",
    "                pulsearray.append(pulse)\n",
    "                nopulse = False\n",
    "                break\n",
    "        if nopulse:\n",
    "            pulsearray.append(\"\")\n",
    "\n",
    "print(pulsearray)\n",
    "print(datearray)\n",
    "plt.plot(datearray, pulsearray, )\n",
    "\n",
    "plt.xlabel('Date')\n",
    "plt.ylabel('Pulse')\n",
    "plt.title('My Personal Health')\n",
    "plt.grid()\n",
    "\n",
    "plt.savefig(mypath2data + \"/test.png\")\n",
    "plt.show()"
   ]
  },
  {
   "cell_type": "code",
   "execution_count": null,
   "metadata": {},
   "outputs": [],
   "source": []
  },
  {
   "cell_type": "markdown",
   "metadata": {},
   "source": [
    "# Fourth Try\n",
    "Crop the image"
   ]
  },
  {
   "cell_type": "code",
   "execution_count": 6,
   "metadata": {},
   "outputs": [
    {
     "name": "stderr",
     "output_type": "stream",
     "text": [
      "/Users/hansjoerg.stark/anaconda3/lib/python3.7/site-packages/ipykernel_launcher.py:17: DeprecationWarning: `imsave` is deprecated!\n",
      "`imsave` is deprecated in SciPy 1.0.0, and will be removed in 1.2.0.\n",
      "Use ``imageio.imwrite`` instead.\n",
      "/Users/hansjoerg.stark/anaconda3/lib/python3.7/site-packages/ipykernel_launcher.py:17: DeprecationWarning: `imsave` is deprecated!\n",
      "`imsave` is deprecated in SciPy 1.0.0, and will be removed in 1.2.0.\n",
      "Use ``imageio.imwrite`` instead.\n"
     ]
    },
    {
     "name": "stdout",
     "output_type": "stream",
     "text": [
      "42\n"
     ]
    },
    {
     "name": "stderr",
     "output_type": "stream",
     "text": [
      "/Users/hansjoerg.stark/anaconda3/lib/python3.7/site-packages/ipykernel_launcher.py:17: DeprecationWarning: `imsave` is deprecated!\n",
      "`imsave` is deprecated in SciPy 1.0.0, and will be removed in 1.2.0.\n",
      "Use ``imageio.imwrite`` instead.\n",
      "/Users/hansjoerg.stark/anaconda3/lib/python3.7/site-packages/ipykernel_launcher.py:17: DeprecationWarning: `imsave` is deprecated!\n",
      "`imsave` is deprecated in SciPy 1.0.0, and will be removed in 1.2.0.\n",
      "Use ``imageio.imwrite`` instead.\n"
     ]
    },
    {
     "name": "stdout",
     "output_type": "stream",
     "text": [
      "46\n"
     ]
    },
    {
     "name": "stderr",
     "output_type": "stream",
     "text": [
      "/Users/hansjoerg.stark/anaconda3/lib/python3.7/site-packages/ipykernel_launcher.py:17: DeprecationWarning: `imsave` is deprecated!\n",
      "`imsave` is deprecated in SciPy 1.0.0, and will be removed in 1.2.0.\n",
      "Use ``imageio.imwrite`` instead.\n",
      "/Users/hansjoerg.stark/anaconda3/lib/python3.7/site-packages/ipykernel_launcher.py:17: DeprecationWarning: `imsave` is deprecated!\n",
      "`imsave` is deprecated in SciPy 1.0.0, and will be removed in 1.2.0.\n",
      "Use ``imageio.imwrite`` instead.\n"
     ]
    },
    {
     "name": "stdout",
     "output_type": "stream",
     "text": [
      "40\n"
     ]
    },
    {
     "name": "stderr",
     "output_type": "stream",
     "text": [
      "/Users/hansjoerg.stark/anaconda3/lib/python3.7/site-packages/ipykernel_launcher.py:17: DeprecationWarning: `imsave` is deprecated!\n",
      "`imsave` is deprecated in SciPy 1.0.0, and will be removed in 1.2.0.\n",
      "Use ``imageio.imwrite`` instead.\n",
      "/Users/hansjoerg.stark/anaconda3/lib/python3.7/site-packages/ipykernel_launcher.py:17: DeprecationWarning: `imsave` is deprecated!\n",
      "`imsave` is deprecated in SciPy 1.0.0, and will be removed in 1.2.0.\n",
      "Use ``imageio.imwrite`` instead.\n"
     ]
    },
    {
     "name": "stdout",
     "output_type": "stream",
     "text": [
      "42\n"
     ]
    },
    {
     "name": "stderr",
     "output_type": "stream",
     "text": [
      "/Users/hansjoerg.stark/anaconda3/lib/python3.7/site-packages/ipykernel_launcher.py:17: DeprecationWarning: `imsave` is deprecated!\n",
      "`imsave` is deprecated in SciPy 1.0.0, and will be removed in 1.2.0.\n",
      "Use ``imageio.imwrite`` instead.\n",
      "/Users/hansjoerg.stark/anaconda3/lib/python3.7/site-packages/ipykernel_launcher.py:17: DeprecationWarning: `imsave` is deprecated!\n",
      "`imsave` is deprecated in SciPy 1.0.0, and will be removed in 1.2.0.\n",
      "Use ``imageio.imwrite`` instead.\n"
     ]
    },
    {
     "name": "stdout",
     "output_type": "stream",
     "text": [
      "47\n"
     ]
    },
    {
     "name": "stderr",
     "output_type": "stream",
     "text": [
      "/Users/hansjoerg.stark/anaconda3/lib/python3.7/site-packages/ipykernel_launcher.py:17: DeprecationWarning: `imsave` is deprecated!\n",
      "`imsave` is deprecated in SciPy 1.0.0, and will be removed in 1.2.0.\n",
      "Use ``imageio.imwrite`` instead.\n",
      "/Users/hansjoerg.stark/anaconda3/lib/python3.7/site-packages/ipykernel_launcher.py:17: DeprecationWarning: `imsave` is deprecated!\n",
      "`imsave` is deprecated in SciPy 1.0.0, and will be removed in 1.2.0.\n",
      "Use ``imageio.imwrite`` instead.\n"
     ]
    },
    {
     "name": "stdout",
     "output_type": "stream",
     "text": [
      "42\n"
     ]
    },
    {
     "name": "stderr",
     "output_type": "stream",
     "text": [
      "/Users/hansjoerg.stark/anaconda3/lib/python3.7/site-packages/ipykernel_launcher.py:17: DeprecationWarning: `imsave` is deprecated!\n",
      "`imsave` is deprecated in SciPy 1.0.0, and will be removed in 1.2.0.\n",
      "Use ``imageio.imwrite`` instead.\n",
      "/Users/hansjoerg.stark/anaconda3/lib/python3.7/site-packages/ipykernel_launcher.py:17: DeprecationWarning: `imsave` is deprecated!\n",
      "`imsave` is deprecated in SciPy 1.0.0, and will be removed in 1.2.0.\n",
      "Use ``imageio.imwrite`` instead.\n"
     ]
    },
    {
     "name": "stdout",
     "output_type": "stream",
     "text": [
      "47\n"
     ]
    },
    {
     "name": "stderr",
     "output_type": "stream",
     "text": [
      "/Users/hansjoerg.stark/anaconda3/lib/python3.7/site-packages/ipykernel_launcher.py:17: DeprecationWarning: `imsave` is deprecated!\n",
      "`imsave` is deprecated in SciPy 1.0.0, and will be removed in 1.2.0.\n",
      "Use ``imageio.imwrite`` instead.\n",
      "/Users/hansjoerg.stark/anaconda3/lib/python3.7/site-packages/ipykernel_launcher.py:17: DeprecationWarning: `imsave` is deprecated!\n",
      "`imsave` is deprecated in SciPy 1.0.0, and will be removed in 1.2.0.\n",
      "Use ``imageio.imwrite`` instead.\n"
     ]
    },
    {
     "name": "stdout",
     "output_type": "stream",
     "text": [
      "39\n"
     ]
    },
    {
     "name": "stderr",
     "output_type": "stream",
     "text": [
      "/Users/hansjoerg.stark/anaconda3/lib/python3.7/site-packages/ipykernel_launcher.py:17: DeprecationWarning: `imsave` is deprecated!\n",
      "`imsave` is deprecated in SciPy 1.0.0, and will be removed in 1.2.0.\n",
      "Use ``imageio.imwrite`` instead.\n",
      "/Users/hansjoerg.stark/anaconda3/lib/python3.7/site-packages/ipykernel_launcher.py:17: DeprecationWarning: `imsave` is deprecated!\n",
      "`imsave` is deprecated in SciPy 1.0.0, and will be removed in 1.2.0.\n",
      "Use ``imageio.imwrite`` instead.\n"
     ]
    },
    {
     "name": "stdout",
     "output_type": "stream",
     "text": [
      "48\n"
     ]
    },
    {
     "name": "stderr",
     "output_type": "stream",
     "text": [
      "/Users/hansjoerg.stark/anaconda3/lib/python3.7/site-packages/ipykernel_launcher.py:17: DeprecationWarning: `imsave` is deprecated!\n",
      "`imsave` is deprecated in SciPy 1.0.0, and will be removed in 1.2.0.\n",
      "Use ``imageio.imwrite`` instead.\n",
      "/Users/hansjoerg.stark/anaconda3/lib/python3.7/site-packages/ipykernel_launcher.py:17: DeprecationWarning: `imsave` is deprecated!\n",
      "`imsave` is deprecated in SciPy 1.0.0, and will be removed in 1.2.0.\n",
      "Use ``imageio.imwrite`` instead.\n"
     ]
    },
    {
     "name": "stdout",
     "output_type": "stream",
     "text": [
      "42\n"
     ]
    },
    {
     "name": "stderr",
     "output_type": "stream",
     "text": [
      "/Users/hansjoerg.stark/anaconda3/lib/python3.7/site-packages/ipykernel_launcher.py:17: DeprecationWarning: `imsave` is deprecated!\n",
      "`imsave` is deprecated in SciPy 1.0.0, and will be removed in 1.2.0.\n",
      "Use ``imageio.imwrite`` instead.\n",
      "/Users/hansjoerg.stark/anaconda3/lib/python3.7/site-packages/ipykernel_launcher.py:17: DeprecationWarning: `imsave` is deprecated!\n",
      "`imsave` is deprecated in SciPy 1.0.0, and will be removed in 1.2.0.\n",
      "Use ``imageio.imwrite`` instead.\n"
     ]
    },
    {
     "name": "stdout",
     "output_type": "stream",
     "text": [
      "45\n"
     ]
    },
    {
     "name": "stderr",
     "output_type": "stream",
     "text": [
      "/Users/hansjoerg.stark/anaconda3/lib/python3.7/site-packages/ipykernel_launcher.py:17: DeprecationWarning: `imsave` is deprecated!\n",
      "`imsave` is deprecated in SciPy 1.0.0, and will be removed in 1.2.0.\n",
      "Use ``imageio.imwrite`` instead.\n",
      "/Users/hansjoerg.stark/anaconda3/lib/python3.7/site-packages/ipykernel_launcher.py:17: DeprecationWarning: `imsave` is deprecated!\n",
      "`imsave` is deprecated in SciPy 1.0.0, and will be removed in 1.2.0.\n",
      "Use ``imageio.imwrite`` instead.\n"
     ]
    },
    {
     "name": "stdout",
     "output_type": "stream",
     "text": [
      "49\n"
     ]
    },
    {
     "name": "stderr",
     "output_type": "stream",
     "text": [
      "/Users/hansjoerg.stark/anaconda3/lib/python3.7/site-packages/ipykernel_launcher.py:17: DeprecationWarning: `imsave` is deprecated!\n",
      "`imsave` is deprecated in SciPy 1.0.0, and will be removed in 1.2.0.\n",
      "Use ``imageio.imwrite`` instead.\n",
      "/Users/hansjoerg.stark/anaconda3/lib/python3.7/site-packages/ipykernel_launcher.py:17: DeprecationWarning: `imsave` is deprecated!\n",
      "`imsave` is deprecated in SciPy 1.0.0, and will be removed in 1.2.0.\n",
      "Use ``imageio.imwrite`` instead.\n"
     ]
    },
    {
     "name": "stdout",
     "output_type": "stream",
     "text": [
      "415\n"
     ]
    },
    {
     "name": "stderr",
     "output_type": "stream",
     "text": [
      "/Users/hansjoerg.stark/anaconda3/lib/python3.7/site-packages/ipykernel_launcher.py:17: DeprecationWarning: `imsave` is deprecated!\n",
      "`imsave` is deprecated in SciPy 1.0.0, and will be removed in 1.2.0.\n",
      "Use ``imageio.imwrite`` instead.\n",
      "/Users/hansjoerg.stark/anaconda3/lib/python3.7/site-packages/ipykernel_launcher.py:17: DeprecationWarning: `imsave` is deprecated!\n",
      "`imsave` is deprecated in SciPy 1.0.0, and will be removed in 1.2.0.\n",
      "Use ``imageio.imwrite`` instead.\n"
     ]
    },
    {
     "name": "stdout",
     "output_type": "stream",
     "text": [
      "39\n"
     ]
    },
    {
     "name": "stderr",
     "output_type": "stream",
     "text": [
      "/Users/hansjoerg.stark/anaconda3/lib/python3.7/site-packages/ipykernel_launcher.py:17: DeprecationWarning: `imsave` is deprecated!\n",
      "`imsave` is deprecated in SciPy 1.0.0, and will be removed in 1.2.0.\n",
      "Use ``imageio.imwrite`` instead.\n",
      "/Users/hansjoerg.stark/anaconda3/lib/python3.7/site-packages/ipykernel_launcher.py:17: DeprecationWarning: `imsave` is deprecated!\n",
      "`imsave` is deprecated in SciPy 1.0.0, and will be removed in 1.2.0.\n",
      "Use ``imageio.imwrite`` instead.\n"
     ]
    },
    {
     "name": "stdout",
     "output_type": "stream",
     "text": [
      "42\n"
     ]
    },
    {
     "name": "stderr",
     "output_type": "stream",
     "text": [
      "/Users/hansjoerg.stark/anaconda3/lib/python3.7/site-packages/ipykernel_launcher.py:17: DeprecationWarning: `imsave` is deprecated!\n",
      "`imsave` is deprecated in SciPy 1.0.0, and will be removed in 1.2.0.\n",
      "Use ``imageio.imwrite`` instead.\n",
      "/Users/hansjoerg.stark/anaconda3/lib/python3.7/site-packages/ipykernel_launcher.py:17: DeprecationWarning: `imsave` is deprecated!\n",
      "`imsave` is deprecated in SciPy 1.0.0, and will be removed in 1.2.0.\n",
      "Use ``imageio.imwrite`` instead.\n"
     ]
    },
    {
     "name": "stdout",
     "output_type": "stream",
     "text": [
      "39\n"
     ]
    },
    {
     "name": "stderr",
     "output_type": "stream",
     "text": [
      "/Users/hansjoerg.stark/anaconda3/lib/python3.7/site-packages/ipykernel_launcher.py:17: DeprecationWarning: `imsave` is deprecated!\n",
      "`imsave` is deprecated in SciPy 1.0.0, and will be removed in 1.2.0.\n",
      "Use ``imageio.imwrite`` instead.\n",
      "/Users/hansjoerg.stark/anaconda3/lib/python3.7/site-packages/ipykernel_launcher.py:17: DeprecationWarning: `imsave` is deprecated!\n",
      "`imsave` is deprecated in SciPy 1.0.0, and will be removed in 1.2.0.\n",
      "Use ``imageio.imwrite`` instead.\n"
     ]
    },
    {
     "name": "stdout",
     "output_type": "stream",
     "text": [
      "49\n"
     ]
    },
    {
     "name": "stderr",
     "output_type": "stream",
     "text": [
      "/Users/hansjoerg.stark/anaconda3/lib/python3.7/site-packages/ipykernel_launcher.py:17: DeprecationWarning: `imsave` is deprecated!\n",
      "`imsave` is deprecated in SciPy 1.0.0, and will be removed in 1.2.0.\n",
      "Use ``imageio.imwrite`` instead.\n",
      "/Users/hansjoerg.stark/anaconda3/lib/python3.7/site-packages/ipykernel_launcher.py:17: DeprecationWarning: `imsave` is deprecated!\n",
      "`imsave` is deprecated in SciPy 1.0.0, and will be removed in 1.2.0.\n",
      "Use ``imageio.imwrite`` instead.\n"
     ]
    },
    {
     "name": "stdout",
     "output_type": "stream",
     "text": [
      "47\\\n",
      "47\\\n"
     ]
    },
    {
     "name": "stderr",
     "output_type": "stream",
     "text": [
      "/Users/hansjoerg.stark/anaconda3/lib/python3.7/site-packages/ipykernel_launcher.py:17: DeprecationWarning: `imsave` is deprecated!\n",
      "`imsave` is deprecated in SciPy 1.0.0, and will be removed in 1.2.0.\n",
      "Use ``imageio.imwrite`` instead.\n",
      "/Users/hansjoerg.stark/anaconda3/lib/python3.7/site-packages/ipykernel_launcher.py:17: DeprecationWarning: `imsave` is deprecated!\n",
      "`imsave` is deprecated in SciPy 1.0.0, and will be removed in 1.2.0.\n",
      "Use ``imageio.imwrite`` instead.\n"
     ]
    },
    {
     "name": "stdout",
     "output_type": "stream",
     "text": [
      "47\n"
     ]
    },
    {
     "name": "stderr",
     "output_type": "stream",
     "text": [
      "/Users/hansjoerg.stark/anaconda3/lib/python3.7/site-packages/ipykernel_launcher.py:17: DeprecationWarning: `imsave` is deprecated!\n",
      "`imsave` is deprecated in SciPy 1.0.0, and will be removed in 1.2.0.\n",
      "Use ``imageio.imwrite`` instead.\n",
      "/Users/hansjoerg.stark/anaconda3/lib/python3.7/site-packages/ipykernel_launcher.py:17: DeprecationWarning: `imsave` is deprecated!\n",
      "`imsave` is deprecated in SciPy 1.0.0, and will be removed in 1.2.0.\n",
      "Use ``imageio.imwrite`` instead.\n"
     ]
    },
    {
     "name": "stdout",
     "output_type": "stream",
     "text": [
      "43\n"
     ]
    },
    {
     "name": "stderr",
     "output_type": "stream",
     "text": [
      "/Users/hansjoerg.stark/anaconda3/lib/python3.7/site-packages/ipykernel_launcher.py:17: DeprecationWarning: `imsave` is deprecated!\n",
      "`imsave` is deprecated in SciPy 1.0.0, and will be removed in 1.2.0.\n",
      "Use ``imageio.imwrite`` instead.\n",
      "/Users/hansjoerg.stark/anaconda3/lib/python3.7/site-packages/ipykernel_launcher.py:17: DeprecationWarning: `imsave` is deprecated!\n",
      "`imsave` is deprecated in SciPy 1.0.0, and will be removed in 1.2.0.\n",
      "Use ``imageio.imwrite`` instead.\n"
     ]
    },
    {
     "name": "stdout",
     "output_type": "stream",
     "text": [
      "46\n"
     ]
    },
    {
     "name": "stderr",
     "output_type": "stream",
     "text": [
      "/Users/hansjoerg.stark/anaconda3/lib/python3.7/site-packages/ipykernel_launcher.py:17: DeprecationWarning: `imsave` is deprecated!\n",
      "`imsave` is deprecated in SciPy 1.0.0, and will be removed in 1.2.0.\n",
      "Use ``imageio.imwrite`` instead.\n",
      "/Users/hansjoerg.stark/anaconda3/lib/python3.7/site-packages/ipykernel_launcher.py:17: DeprecationWarning: `imsave` is deprecated!\n",
      "`imsave` is deprecated in SciPy 1.0.0, and will be removed in 1.2.0.\n",
      "Use ``imageio.imwrite`` instead.\n"
     ]
    },
    {
     "name": "stdout",
     "output_type": "stream",
     "text": [
      "49\n"
     ]
    },
    {
     "name": "stderr",
     "output_type": "stream",
     "text": [
      "/Users/hansjoerg.stark/anaconda3/lib/python3.7/site-packages/ipykernel_launcher.py:17: DeprecationWarning: `imsave` is deprecated!\n",
      "`imsave` is deprecated in SciPy 1.0.0, and will be removed in 1.2.0.\n",
      "Use ``imageio.imwrite`` instead.\n",
      "/Users/hansjoerg.stark/anaconda3/lib/python3.7/site-packages/ipykernel_launcher.py:17: DeprecationWarning: `imsave` is deprecated!\n",
      "`imsave` is deprecated in SciPy 1.0.0, and will be removed in 1.2.0.\n",
      "Use ``imageio.imwrite`` instead.\n"
     ]
    },
    {
     "name": "stdout",
     "output_type": "stream",
     "text": [
      "46\n"
     ]
    },
    {
     "name": "stderr",
     "output_type": "stream",
     "text": [
      "/Users/hansjoerg.stark/anaconda3/lib/python3.7/site-packages/ipykernel_launcher.py:17: DeprecationWarning: `imsave` is deprecated!\n",
      "`imsave` is deprecated in SciPy 1.0.0, and will be removed in 1.2.0.\n",
      "Use ``imageio.imwrite`` instead.\n",
      "/Users/hansjoerg.stark/anaconda3/lib/python3.7/site-packages/ipykernel_launcher.py:17: DeprecationWarning: `imsave` is deprecated!\n",
      "`imsave` is deprecated in SciPy 1.0.0, and will be removed in 1.2.0.\n",
      "Use ``imageio.imwrite`` instead.\n"
     ]
    },
    {
     "name": "stdout",
     "output_type": "stream",
     "text": [
      "45\n"
     ]
    },
    {
     "name": "stderr",
     "output_type": "stream",
     "text": [
      "/Users/hansjoerg.stark/anaconda3/lib/python3.7/site-packages/ipykernel_launcher.py:17: DeprecationWarning: `imsave` is deprecated!\n",
      "`imsave` is deprecated in SciPy 1.0.0, and will be removed in 1.2.0.\n",
      "Use ``imageio.imwrite`` instead.\n",
      "/Users/hansjoerg.stark/anaconda3/lib/python3.7/site-packages/ipykernel_launcher.py:17: DeprecationWarning: `imsave` is deprecated!\n",
      "`imsave` is deprecated in SciPy 1.0.0, and will be removed in 1.2.0.\n",
      "Use ``imageio.imwrite`` instead.\n"
     ]
    },
    {
     "name": "stdout",
     "output_type": "stream",
     "text": [
      "56\n"
     ]
    },
    {
     "name": "stderr",
     "output_type": "stream",
     "text": [
      "/Users/hansjoerg.stark/anaconda3/lib/python3.7/site-packages/ipykernel_launcher.py:17: DeprecationWarning: `imsave` is deprecated!\n",
      "`imsave` is deprecated in SciPy 1.0.0, and will be removed in 1.2.0.\n",
      "Use ``imageio.imwrite`` instead.\n",
      "/Users/hansjoerg.stark/anaconda3/lib/python3.7/site-packages/ipykernel_launcher.py:17: DeprecationWarning: `imsave` is deprecated!\n",
      "`imsave` is deprecated in SciPy 1.0.0, and will be removed in 1.2.0.\n",
      "Use ``imageio.imwrite`` instead.\n"
     ]
    },
    {
     "name": "stdout",
     "output_type": "stream",
     "text": [
      "45\n"
     ]
    },
    {
     "name": "stderr",
     "output_type": "stream",
     "text": [
      "/Users/hansjoerg.stark/anaconda3/lib/python3.7/site-packages/ipykernel_launcher.py:17: DeprecationWarning: `imsave` is deprecated!\n",
      "`imsave` is deprecated in SciPy 1.0.0, and will be removed in 1.2.0.\n",
      "Use ``imageio.imwrite`` instead.\n",
      "/Users/hansjoerg.stark/anaconda3/lib/python3.7/site-packages/ipykernel_launcher.py:17: DeprecationWarning: `imsave` is deprecated!\n",
      "`imsave` is deprecated in SciPy 1.0.0, and will be removed in 1.2.0.\n",
      "Use ``imageio.imwrite`` instead.\n"
     ]
    },
    {
     "name": "stdout",
     "output_type": "stream",
     "text": [
      "48\n"
     ]
    },
    {
     "name": "stderr",
     "output_type": "stream",
     "text": [
      "/Users/hansjoerg.stark/anaconda3/lib/python3.7/site-packages/ipykernel_launcher.py:17: DeprecationWarning: `imsave` is deprecated!\n",
      "`imsave` is deprecated in SciPy 1.0.0, and will be removed in 1.2.0.\n",
      "Use ``imageio.imwrite`` instead.\n",
      "/Users/hansjoerg.stark/anaconda3/lib/python3.7/site-packages/ipykernel_launcher.py:17: DeprecationWarning: `imsave` is deprecated!\n",
      "`imsave` is deprecated in SciPy 1.0.0, and will be removed in 1.2.0.\n",
      "Use ``imageio.imwrite`` instead.\n"
     ]
    },
    {
     "name": "stdout",
     "output_type": "stream",
     "text": [
      "46\n"
     ]
    },
    {
     "name": "stderr",
     "output_type": "stream",
     "text": [
      "/Users/hansjoerg.stark/anaconda3/lib/python3.7/site-packages/ipykernel_launcher.py:17: DeprecationWarning: `imsave` is deprecated!\n",
      "`imsave` is deprecated in SciPy 1.0.0, and will be removed in 1.2.0.\n",
      "Use ``imageio.imwrite`` instead.\n",
      "/Users/hansjoerg.stark/anaconda3/lib/python3.7/site-packages/ipykernel_launcher.py:17: DeprecationWarning: `imsave` is deprecated!\n",
      "`imsave` is deprecated in SciPy 1.0.0, and will be removed in 1.2.0.\n",
      "Use ``imageio.imwrite`` instead.\n"
     ]
    },
    {
     "name": "stdout",
     "output_type": "stream",
     "text": [
      "44\n"
     ]
    },
    {
     "name": "stderr",
     "output_type": "stream",
     "text": [
      "/Users/hansjoerg.stark/anaconda3/lib/python3.7/site-packages/ipykernel_launcher.py:17: DeprecationWarning: `imsave` is deprecated!\n",
      "`imsave` is deprecated in SciPy 1.0.0, and will be removed in 1.2.0.\n",
      "Use ``imageio.imwrite`` instead.\n",
      "/Users/hansjoerg.stark/anaconda3/lib/python3.7/site-packages/ipykernel_launcher.py:17: DeprecationWarning: `imsave` is deprecated!\n",
      "`imsave` is deprecated in SciPy 1.0.0, and will be removed in 1.2.0.\n",
      "Use ``imageio.imwrite`` instead.\n"
     ]
    },
    {
     "name": "stdout",
     "output_type": "stream",
     "text": [
      "55\n"
     ]
    },
    {
     "name": "stderr",
     "output_type": "stream",
     "text": [
      "/Users/hansjoerg.stark/anaconda3/lib/python3.7/site-packages/ipykernel_launcher.py:17: DeprecationWarning: `imsave` is deprecated!\n",
      "`imsave` is deprecated in SciPy 1.0.0, and will be removed in 1.2.0.\n",
      "Use ``imageio.imwrite`` instead.\n",
      "/Users/hansjoerg.stark/anaconda3/lib/python3.7/site-packages/ipykernel_launcher.py:17: DeprecationWarning: `imsave` is deprecated!\n",
      "`imsave` is deprecated in SciPy 1.0.0, and will be removed in 1.2.0.\n",
      "Use ``imageio.imwrite`` instead.\n"
     ]
    },
    {
     "name": "stdout",
     "output_type": "stream",
     "text": [
      "48\n"
     ]
    },
    {
     "name": "stderr",
     "output_type": "stream",
     "text": [
      "/Users/hansjoerg.stark/anaconda3/lib/python3.7/site-packages/ipykernel_launcher.py:17: DeprecationWarning: `imsave` is deprecated!\n",
      "`imsave` is deprecated in SciPy 1.0.0, and will be removed in 1.2.0.\n",
      "Use ``imageio.imwrite`` instead.\n",
      "/Users/hansjoerg.stark/anaconda3/lib/python3.7/site-packages/ipykernel_launcher.py:17: DeprecationWarning: `imsave` is deprecated!\n",
      "`imsave` is deprecated in SciPy 1.0.0, and will be removed in 1.2.0.\n",
      "Use ``imageio.imwrite`` instead.\n"
     ]
    },
    {
     "name": "stdout",
     "output_type": "stream",
     "text": [
      "45\n"
     ]
    },
    {
     "name": "stderr",
     "output_type": "stream",
     "text": [
      "/Users/hansjoerg.stark/anaconda3/lib/python3.7/site-packages/ipykernel_launcher.py:17: DeprecationWarning: `imsave` is deprecated!\n",
      "`imsave` is deprecated in SciPy 1.0.0, and will be removed in 1.2.0.\n",
      "Use ``imageio.imwrite`` instead.\n",
      "/Users/hansjoerg.stark/anaconda3/lib/python3.7/site-packages/ipykernel_launcher.py:17: DeprecationWarning: `imsave` is deprecated!\n",
      "`imsave` is deprecated in SciPy 1.0.0, and will be removed in 1.2.0.\n",
      "Use ``imageio.imwrite`` instead.\n"
     ]
    },
    {
     "name": "stdout",
     "output_type": "stream",
     "text": [
      "46\n"
     ]
    },
    {
     "name": "stderr",
     "output_type": "stream",
     "text": [
      "/Users/hansjoerg.stark/anaconda3/lib/python3.7/site-packages/ipykernel_launcher.py:17: DeprecationWarning: `imsave` is deprecated!\n",
      "`imsave` is deprecated in SciPy 1.0.0, and will be removed in 1.2.0.\n",
      "Use ``imageio.imwrite`` instead.\n",
      "/Users/hansjoerg.stark/anaconda3/lib/python3.7/site-packages/ipykernel_launcher.py:17: DeprecationWarning: `imsave` is deprecated!\n",
      "`imsave` is deprecated in SciPy 1.0.0, and will be removed in 1.2.0.\n",
      "Use ``imageio.imwrite`` instead.\n"
     ]
    },
    {
     "name": "stdout",
     "output_type": "stream",
     "text": [
      "47\n"
     ]
    },
    {
     "name": "stderr",
     "output_type": "stream",
     "text": [
      "/Users/hansjoerg.stark/anaconda3/lib/python3.7/site-packages/ipykernel_launcher.py:17: DeprecationWarning: `imsave` is deprecated!\n",
      "`imsave` is deprecated in SciPy 1.0.0, and will be removed in 1.2.0.\n",
      "Use ``imageio.imwrite`` instead.\n",
      "/Users/hansjoerg.stark/anaconda3/lib/python3.7/site-packages/ipykernel_launcher.py:17: DeprecationWarning: `imsave` is deprecated!\n",
      "`imsave` is deprecated in SciPy 1.0.0, and will be removed in 1.2.0.\n",
      "Use ``imageio.imwrite`` instead.\n"
     ]
    },
    {
     "name": "stdout",
     "output_type": "stream",
     "text": [
      "BPM\n",
      "BPM\n"
     ]
    },
    {
     "name": "stderr",
     "output_type": "stream",
     "text": [
      "/Users/hansjoerg.stark/anaconda3/lib/python3.7/site-packages/ipykernel_launcher.py:17: DeprecationWarning: `imsave` is deprecated!\n",
      "`imsave` is deprecated in SciPy 1.0.0, and will be removed in 1.2.0.\n",
      "Use ``imageio.imwrite`` instead.\n",
      "/Users/hansjoerg.stark/anaconda3/lib/python3.7/site-packages/ipykernel_launcher.py:17: DeprecationWarning: `imsave` is deprecated!\n",
      "`imsave` is deprecated in SciPy 1.0.0, and will be removed in 1.2.0.\n",
      "Use ``imageio.imwrite`` instead.\n"
     ]
    },
    {
     "name": "stdout",
     "output_type": "stream",
     "text": [
      "44\n"
     ]
    },
    {
     "name": "stderr",
     "output_type": "stream",
     "text": [
      "/Users/hansjoerg.stark/anaconda3/lib/python3.7/site-packages/ipykernel_launcher.py:17: DeprecationWarning: `imsave` is deprecated!\n",
      "`imsave` is deprecated in SciPy 1.0.0, and will be removed in 1.2.0.\n",
      "Use ``imageio.imwrite`` instead.\n",
      "/Users/hansjoerg.stark/anaconda3/lib/python3.7/site-packages/ipykernel_launcher.py:17: DeprecationWarning: `imsave` is deprecated!\n",
      "`imsave` is deprecated in SciPy 1.0.0, and will be removed in 1.2.0.\n",
      "Use ``imageio.imwrite`` instead.\n"
     ]
    },
    {
     "name": "stdout",
     "output_type": "stream",
     "text": [
      "50\n"
     ]
    },
    {
     "name": "stderr",
     "output_type": "stream",
     "text": [
      "/Users/hansjoerg.stark/anaconda3/lib/python3.7/site-packages/ipykernel_launcher.py:17: DeprecationWarning: `imsave` is deprecated!\n",
      "`imsave` is deprecated in SciPy 1.0.0, and will be removed in 1.2.0.\n",
      "Use ``imageio.imwrite`` instead.\n",
      "/Users/hansjoerg.stark/anaconda3/lib/python3.7/site-packages/ipykernel_launcher.py:17: DeprecationWarning: `imsave` is deprecated!\n",
      "`imsave` is deprecated in SciPy 1.0.0, and will be removed in 1.2.0.\n",
      "Use ``imageio.imwrite`` instead.\n"
     ]
    },
    {
     "name": "stdout",
     "output_type": "stream",
     "text": [
      "45\n"
     ]
    },
    {
     "name": "stderr",
     "output_type": "stream",
     "text": [
      "/Users/hansjoerg.stark/anaconda3/lib/python3.7/site-packages/ipykernel_launcher.py:17: DeprecationWarning: `imsave` is deprecated!\n",
      "`imsave` is deprecated in SciPy 1.0.0, and will be removed in 1.2.0.\n",
      "Use ``imageio.imwrite`` instead.\n",
      "/Users/hansjoerg.stark/anaconda3/lib/python3.7/site-packages/ipykernel_launcher.py:17: DeprecationWarning: `imsave` is deprecated!\n",
      "`imsave` is deprecated in SciPy 1.0.0, and will be removed in 1.2.0.\n",
      "Use ``imageio.imwrite`` instead.\n"
     ]
    },
    {
     "name": "stdout",
     "output_type": "stream",
     "text": [
      "48\n"
     ]
    },
    {
     "name": "stderr",
     "output_type": "stream",
     "text": [
      "/Users/hansjoerg.stark/anaconda3/lib/python3.7/site-packages/ipykernel_launcher.py:17: DeprecationWarning: `imsave` is deprecated!\n",
      "`imsave` is deprecated in SciPy 1.0.0, and will be removed in 1.2.0.\n",
      "Use ``imageio.imwrite`` instead.\n",
      "/Users/hansjoerg.stark/anaconda3/lib/python3.7/site-packages/ipykernel_launcher.py:17: DeprecationWarning: `imsave` is deprecated!\n",
      "`imsave` is deprecated in SciPy 1.0.0, and will be removed in 1.2.0.\n",
      "Use ``imageio.imwrite`` instead.\n"
     ]
    },
    {
     "name": "stdout",
     "output_type": "stream",
     "text": [
      "45\n"
     ]
    },
    {
     "name": "stderr",
     "output_type": "stream",
     "text": [
      "/Users/hansjoerg.stark/anaconda3/lib/python3.7/site-packages/ipykernel_launcher.py:17: DeprecationWarning: `imsave` is deprecated!\n",
      "`imsave` is deprecated in SciPy 1.0.0, and will be removed in 1.2.0.\n",
      "Use ``imageio.imwrite`` instead.\n",
      "/Users/hansjoerg.stark/anaconda3/lib/python3.7/site-packages/ipykernel_launcher.py:17: DeprecationWarning: `imsave` is deprecated!\n",
      "`imsave` is deprecated in SciPy 1.0.0, and will be removed in 1.2.0.\n",
      "Use ``imageio.imwrite`` instead.\n"
     ]
    },
    {
     "name": "stdout",
     "output_type": "stream",
     "text": [
      "BPM\n",
      "BPM\n"
     ]
    },
    {
     "name": "stderr",
     "output_type": "stream",
     "text": [
      "/Users/hansjoerg.stark/anaconda3/lib/python3.7/site-packages/ipykernel_launcher.py:17: DeprecationWarning: `imsave` is deprecated!\n",
      "`imsave` is deprecated in SciPy 1.0.0, and will be removed in 1.2.0.\n",
      "Use ``imageio.imwrite`` instead.\n",
      "/Users/hansjoerg.stark/anaconda3/lib/python3.7/site-packages/ipykernel_launcher.py:17: DeprecationWarning: `imsave` is deprecated!\n",
      "`imsave` is deprecated in SciPy 1.0.0, and will be removed in 1.2.0.\n",
      "Use ``imageio.imwrite`` instead.\n"
     ]
    },
    {
     "name": "stdout",
     "output_type": "stream",
     "text": [
      "42\n"
     ]
    },
    {
     "name": "stderr",
     "output_type": "stream",
     "text": [
      "/Users/hansjoerg.stark/anaconda3/lib/python3.7/site-packages/ipykernel_launcher.py:17: DeprecationWarning: `imsave` is deprecated!\n",
      "`imsave` is deprecated in SciPy 1.0.0, and will be removed in 1.2.0.\n",
      "Use ``imageio.imwrite`` instead.\n",
      "/Users/hansjoerg.stark/anaconda3/lib/python3.7/site-packages/ipykernel_launcher.py:17: DeprecationWarning: `imsave` is deprecated!\n",
      "`imsave` is deprecated in SciPy 1.0.0, and will be removed in 1.2.0.\n",
      "Use ``imageio.imwrite`` instead.\n"
     ]
    },
    {
     "name": "stdout",
     "output_type": "stream",
     "text": [
      "42\n"
     ]
    },
    {
     "name": "stderr",
     "output_type": "stream",
     "text": [
      "/Users/hansjoerg.stark/anaconda3/lib/python3.7/site-packages/ipykernel_launcher.py:17: DeprecationWarning: `imsave` is deprecated!\n",
      "`imsave` is deprecated in SciPy 1.0.0, and will be removed in 1.2.0.\n",
      "Use ``imageio.imwrite`` instead.\n",
      "/Users/hansjoerg.stark/anaconda3/lib/python3.7/site-packages/ipykernel_launcher.py:17: DeprecationWarning: `imsave` is deprecated!\n",
      "`imsave` is deprecated in SciPy 1.0.0, and will be removed in 1.2.0.\n",
      "Use ``imageio.imwrite`` instead.\n"
     ]
    },
    {
     "name": "stdout",
     "output_type": "stream",
     "text": [
      "46\n"
     ]
    },
    {
     "name": "stderr",
     "output_type": "stream",
     "text": [
      "/Users/hansjoerg.stark/anaconda3/lib/python3.7/site-packages/ipykernel_launcher.py:17: DeprecationWarning: `imsave` is deprecated!\n",
      "`imsave` is deprecated in SciPy 1.0.0, and will be removed in 1.2.0.\n",
      "Use ``imageio.imwrite`` instead.\n",
      "/Users/hansjoerg.stark/anaconda3/lib/python3.7/site-packages/ipykernel_launcher.py:17: DeprecationWarning: `imsave` is deprecated!\n",
      "`imsave` is deprecated in SciPy 1.0.0, and will be removed in 1.2.0.\n",
      "Use ``imageio.imwrite`` instead.\n"
     ]
    },
    {
     "name": "stdout",
     "output_type": "stream",
     "text": [
      "47\n"
     ]
    },
    {
     "name": "stderr",
     "output_type": "stream",
     "text": [
      "/Users/hansjoerg.stark/anaconda3/lib/python3.7/site-packages/ipykernel_launcher.py:17: DeprecationWarning: `imsave` is deprecated!\n",
      "`imsave` is deprecated in SciPy 1.0.0, and will be removed in 1.2.0.\n",
      "Use ``imageio.imwrite`` instead.\n",
      "/Users/hansjoerg.stark/anaconda3/lib/python3.7/site-packages/ipykernel_launcher.py:17: DeprecationWarning: `imsave` is deprecated!\n",
      "`imsave` is deprecated in SciPy 1.0.0, and will be removed in 1.2.0.\n",
      "Use ``imageio.imwrite`` instead.\n"
     ]
    },
    {
     "name": "stdout",
     "output_type": "stream",
     "text": [
      "38\n"
     ]
    },
    {
     "name": "stderr",
     "output_type": "stream",
     "text": [
      "/Users/hansjoerg.stark/anaconda3/lib/python3.7/site-packages/ipykernel_launcher.py:17: DeprecationWarning: `imsave` is deprecated!\n",
      "`imsave` is deprecated in SciPy 1.0.0, and will be removed in 1.2.0.\n",
      "Use ``imageio.imwrite`` instead.\n",
      "/Users/hansjoerg.stark/anaconda3/lib/python3.7/site-packages/ipykernel_launcher.py:17: DeprecationWarning: `imsave` is deprecated!\n",
      "`imsave` is deprecated in SciPy 1.0.0, and will be removed in 1.2.0.\n",
      "Use ``imageio.imwrite`` instead.\n"
     ]
    },
    {
     "name": "stdout",
     "output_type": "stream",
     "text": [
      "l-lnllh:\n",
      "l-lnllh:\n"
     ]
    },
    {
     "name": "stderr",
     "output_type": "stream",
     "text": [
      "/Users/hansjoerg.stark/anaconda3/lib/python3.7/site-packages/ipykernel_launcher.py:17: DeprecationWarning: `imsave` is deprecated!\n",
      "`imsave` is deprecated in SciPy 1.0.0, and will be removed in 1.2.0.\n",
      "Use ``imageio.imwrite`` instead.\n",
      "/Users/hansjoerg.stark/anaconda3/lib/python3.7/site-packages/ipykernel_launcher.py:17: DeprecationWarning: `imsave` is deprecated!\n",
      "`imsave` is deprecated in SciPy 1.0.0, and will be removed in 1.2.0.\n",
      "Use ``imageio.imwrite`` instead.\n"
     ]
    },
    {
     "name": "stdout",
     "output_type": "stream",
     "text": [
      "45\n",
      "[46, 40, 47, 47, 48, 45, 49, 41, 42, 49, 47, 46, 49, 56, 48, 46, 55, 48, 45, 46, 47, 50, 48, 46, 47, 45]\n",
      "['Feb-12-2019', 'Feb-15-2019', 'Feb-15-2019', 'Feb-15-2019', 'Feb-16-2019', 'Feb-23-2019', 'Feb-23-2019', 'Feb-23-2019', 'Feb-23-2019', 'Feb-23-2019', 'Feb-27-2019', 'Mar-2-2019', 'Mar-2-2019', 'Mar-2-2019', 'Mar-4-2019', 'Mar-4-2019', 'Mar-5-2019', 'Mar-6-2019', 'Mar-12-2019', 'Mar-12-2019', 'Mar-12-2019', 'Mar-12-2019', 'Mar-12-2019', 'Mar-14-2019', 'Mar-16-2019', 'Mar-17-2019']\n",
      "[42, 42, 42, 39, 42, 39, 39, 43, 46, 45, 45, 44, 44, 45, 45, 42, 42, 38]\n",
      "['Feb-12-2019', 'Feb-15-2019', 'Feb-15-2019', 'Feb-15-2019', 'Feb-16-2019', 'Feb-23-2019', 'Feb-23-2019', 'Feb-27-2019', 'Mar-2-2019', 'Mar-2-2019', 'Mar-4-2019', 'Mar-5-2019', 'Mar-12-2019', 'Mar-12-2019', 'Mar-12-2019', 'Mar-12-2019', 'Mar-14-2019', 'Mar-16-2019']\n"
     ]
    },
    {
     "data": {
      "image/png": "[encoded data removed]",
      "text/plain": [
       "<Figure size 432x288 with 1 Axes>"
      ]
     },
     "metadata": {
      "needs_background": "light"
     },
     "output_type": "display_data"
    }
   ],
   "source": [
    "#!/usr/bin/env python\n",
    "# -*- coding: utf-8 -*-\n",
    "\n",
    "\"\"\"Binarize (make it black and white) an image with Python.\"\"\"\n",
    "\n",
    "from PIL import Image, ImageFilter\n",
    "from scipy.misc import imsave\n",
    "import numpy, time\n",
    "\n",
    "\n",
    "def binarize_image(img_path, target_path, threshold):\n",
    "    \"\"\"Binarize an image.\"\"\"\n",
    "    image_file = Image.open(img_path)\n",
    "    image = image_file.convert('L')  # convert image to monochrome\n",
    "    image = numpy.array(image)\n",
    "    image = binarize_array(image, threshold)\n",
    "    imsave(target_path, image)\n",
    "    return image\n",
    "\n",
    "\n",
    "\n",
    "def binarize_array(numpy_array, threshold=200):\n",
    "    \"\"\"Binarize a numpy array.\"\"\"\n",
    "    for i in range(len(numpy_array)):\n",
    "        for j in range(len(numpy_array[0])):\n",
    "            if numpy_array[i][j] > threshold:\n",
    "                numpy_array[i][j] = 255\n",
    "            else:\n",
    "                numpy_array[i][j] = 0\n",
    "    return numpy_array\n",
    "\n",
    "\n",
    "def get_parser():\n",
    "    \"\"\"Get parser object for script xy.py.\"\"\"\n",
    "    from argparse import ArgumentParser, ArgumentDefaultsHelpFormatter\n",
    "    parser = ArgumentParser(description=__doc__,\n",
    "                            formatter_class=ArgumentDefaultsHelpFormatter)\n",
    "    parser.add_argument(\"-i\", \"--input\",\n",
    "                        dest=\"input\",\n",
    "                        help=\"read this file\",\n",
    "                        metavar=\"FILE\",\n",
    "                        required=True)\n",
    "    parser.add_argument(\"-o\", \"--output\",\n",
    "                        dest=\"output\",\n",
    "                        help=\"write binarized file hre\",\n",
    "                        metavar=\"FILE\",\n",
    "                        required=True)\n",
    "    parser.add_argument(\"--threshold\",\n",
    "                        dest=\"threshold\",\n",
    "                        default=200,\n",
    "                        type=int,\n",
    "                        help=\"Threshold when to show white\")\n",
    "    return parser\n",
    "\n",
    "#***********************************************************************\n",
    "#***********************************************************************\n",
    "def getfiles(dirpath):\n",
    "    a = [s for s in os.listdir(dirpath)\n",
    "         if os.path.isfile(os.path.join(dirpath, s))]\n",
    "    a.sort(key=lambda s: os.path.getmtime(os.path.join(dirpath, s)))\n",
    "    return a\n",
    "\n",
    "#***********************************************************************\n",
    "#***********************************************************************\n",
    "\n",
    "def cropimage(horizontal,vertical,horOffset,verOffset,imgsrcname,imgtarname):\n",
    "        binparam = 10\n",
    "        imgsrc = Image.open(imgsrcname)\n",
    "        binimg = binarize_image(imgsrcname, imgtarname, binparam)\n",
    "        width, height = imgsrc.size\n",
    "        image_filebwr = Image.open(imgtarname) # open binarized image        \n",
    "        cropped     = image_filebwr.crop((horizontal,vertical,width-horOffset,height-verOffset))  #crop image\n",
    "        #cropped.show()\n",
    "        cropped.save(imgtarname)\n",
    "        return(imgtarname,cropped)\n",
    "\n",
    "\n",
    "\n",
    "import pytesseract\n",
    "import matplotlib\n",
    "import matplotlib.pyplot as plt\n",
    "import matplotlib.dates as mdates\n",
    "import numpy as np\n",
    "import datetime\n",
    "import os, sys\n",
    "\n",
    "#mypath2data = '/Users/hansjoerg.stark/Dropbox/Privat/2019GeoPython/Data/testing'\n",
    "mypath2data = '/Users/hansjoerg.stark/Dropbox/Privat/2019GeoPython/Data'\n",
    "imgbw = os.path.join(mypath2data,'bw1.png')\n",
    "imgbwr = os.path.join(mypath2data,'pulse.png')\n",
    "imgtype = os.path.join(mypath2data,'pulsetype.png')\n",
    "\n",
    "datearray = []\n",
    "datearrayavg = []\n",
    "pulsearray = []\n",
    "pulsearrayavg = []\n",
    "\n",
    "#getfiles(mypath2data)\n",
    "for file in getfiles(mypath2data):\n",
    "    if file.endswith(\".PNG\"):\n",
    "        curImg = os.path.join(mypath2data, file)\n",
    "\n",
    "        image_file = Image.open(curImg) # open colour image\n",
    "        image_file.save(imgbw)\n",
    "        image_file.close()\n",
    "        image_filebw = Image.open(imgbw) # open colour image\n",
    "        image_filebw = image_filebw.convert('1') # convert image to black and white\n",
    "        \n",
    "        \n",
    "        imgtime = time.ctime(os.path.getmtime(curImg))\n",
    "        imgtimestamp = \"%s-%s-%s\" %(imgtime.split()[1],imgtime.split()[2], imgtime.split()[4])\n",
    "        #print(imgtimestamp)\n",
    "        #datearray.append(imgtimestamp)\n",
    "        \n",
    "        \n",
    "        #crop image to get type of pulse\n",
    "        #        cropimage(vertical,verOffset,horOffset,horizontal,imgsrcname,imgtarname)\n",
    "        vertical = 0\n",
    "        horizontal = 12\n",
    "        horOffset = 150\n",
    "        verOffset = 300\n",
    "        imgbwr,cropped = cropimage(horizontal,vertical,horOffset,verOffset,imgbw,imgtype)\n",
    "        result = (pytesseract.image_to_string(imgtype,lang=\"SF_tesseract\", config=\"--psm 11 \"))    \n",
    "        type = result.split()[-1].lower()\n",
    "        #print(\"Typ: %s\" %type)\n",
    "        ptyp = 0\n",
    "        if type[:4] == \"aktu\":\n",
    "            ptyp = 0\n",
    "        else:\n",
    "            ptyp = 1\n",
    "        \n",
    "        \n",
    "        #crop image to get pulse\n",
    "        vertical = 170 #215\n",
    "        horizontal = 0\n",
    "        horOffset = 170 #170\n",
    "        verOffset = 40 #40\n",
    "        imgbwr,cropped = cropimage(horizontal,vertical,horOffset,verOffset,imgbw,imgbwr)\n",
    "        result = (pytesseract.image_to_string(imgbwr,lang=\"SF_tesseract\", config=\"--psm 11 \"))    \n",
    "        #print(result)\n",
    "        pulse = result.split()[-1]\n",
    "\n",
    "        try:\n",
    "            ''.join([n for n in pulse if n.isdigit()])\n",
    "            print(pulse)\n",
    "            if int(pulse)>150:\n",
    "                pulse=pulse[:-1]\n",
    "            pulseint=int(pulse)\n",
    "            #print(pulse)\n",
    "            if ptyp == 0:\n",
    "                pulsearray.append(pulseint)\n",
    "                datearray.append(imgtimestamp)\n",
    "            else:\n",
    "                pulsearrayavg.append(pulseint)\n",
    "                datearrayavg.append(imgtimestamp)\n",
    "        except:\n",
    "            cropped.show()\n",
    "            print(pulse)\n",
    "            \n",
    "        #print(\"*\"*50)\n",
    "           \n",
    "\n",
    "print(pulsearray)\n",
    "print(datearray)\n",
    "print(pulsearrayavg)\n",
    "print(datearrayavg)\n",
    "\n",
    "#imgtimestampfmt = matplotlib.dates.date2num(imgtimestamp)\n",
    "plt.plot(datearray, pulsearray,'r', label='Aufwachpuls' )\n",
    "plt.plot(datearrayavg, pulsearrayavg,'g', label='Durchschnittspuls' )\n",
    "\n",
    "plt.xlabel('Date')\n",
    "plt.ylabel('Pulse')\n",
    "plt.title('My Personal Health')\n",
    "plt.grid()\n",
    "plt.legend()\n",
    "plt.xticks(rotation='vertical')\n",
    "\n",
    "plt.savefig(mypath2data + \"/graphresult.png\", bbox_inches = \"tight\")\n",
    "plt.show()"
   ]
  },
  {
   "cell_type": "code",
   "execution_count": null,
   "metadata": {},
   "outputs": [],
   "source": []
  }
 ],
 "metadata": {
  "kernelspec": {
   "display_name": "Python 3",
   "language": "python",
   "name": "python3"
  },
  "language_info": {
   "codemirror_mode": {
    "name": "ipython",
    "version": 3
   },
   "file_extension": ".py",
   "mimetype": "text/x-python",
   "name": "python",
   "nbconvert_exporter": "python",
   "pygments_lexer": "ipython3",
   "version": "3.7.1"
  }
 },
 "nbformat": 4,
 "nbformat_minor": 2
}
